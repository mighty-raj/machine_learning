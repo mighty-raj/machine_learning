{
 "cells": [
  {
   "cell_type": "code",
   "execution_count": 140,
   "metadata": {},
   "outputs": [],
   "source": [
    "import pandas as pd\n",
    "import numpy as np\n",
    "import scipy\n",
    "import matplotlib.pyplot as plt \n",
    "import scipy.stats as st\n",
    "import seaborn as sns\n",
    "import math"
   ]
  },
  {
   "cell_type": "code",
   "execution_count": 141,
   "metadata": {},
   "outputs": [],
   "source": [
    "def hypothesis(pop_mean):\n",
    "    print(\"Null Hypothesis: \\t \\\" mean = \", pop_mean, \"\\\"\")\n",
    "    print(\"Alternate Hypothesis: \\t \\\" mean != \", pop_mean, \"\\\"\")"
   ]
  },
  {
   "cell_type": "code",
   "execution_count": 142,
   "metadata": {},
   "outputs": [],
   "source": [
    "def z_test(sample_mean, pop_mean, pop_sdev, los):\n",
    "    z_cal = (sample_mu - pop_mu) / (pop_sd/np.sqrt(sample_size))\n",
    "    p_val = st.norm.sf(np.abs(z_cal))*2  # two-tailed pvalue \n",
    "    \n",
    "    if (los == 1):\n",
    "        z_critical = round(st.norm.isf(0.01/2),3) #Z-critical val @ 1% level of sig - two tailed test\n",
    "    if (los == 5):\n",
    "        z_critical = round(st.norm.isf(0.05/2),3) #Z-critical val @ 5% level of sig - two tailed test\n",
    "    \n",
    "    print(\"Hypothesis Testing with 'z-statistic' @ %d level of significance \" % los )\n",
    "    print(\"\\t z-cal = %.3f && p-value = %f\" % (z_cal, p_val))\n",
    "    print(\"\\t z-critical = %.3f \" % z_critical)\n",
    "    \n",
    "    if (z_cal > z_critical):\n",
    "        print()\n",
    "        print(\"\\tRejecting Null Hypothesis, @\",los,\"% level of significance\")\n",
    "    else:\n",
    "        print()\n",
    "        print(\"\\tNot Rejecting Null Hypothesis, @\",los,\"% level of significance\")\n"
   ]
  },
  {
   "cell_type": "code",
   "execution_count": 143,
   "metadata": {},
   "outputs": [],
   "source": [
    "def t_test(sample_size, sample_mean, sample_sdev, pop_mean, los):\n",
    "    t_cal = (sample_mu - pop_mu) / (sample_sd/np.sqrt(sample_size))\n",
    "    \n",
    "    deg_of_frdm = sample_size-1\n",
    "    p_val = st.t.sf(np.abs(t_cal), deg_of_frdm)*2  # two-tailed pvalue = Prob(abs(t)>tt)\n",
    "    \n",
    "    if ( los == 1):\n",
    "        t_critical = round(st.t.isf(0.01/2, deg_of_frdm),3) #t-critical val @ 1% level of sig - two tailed test\n",
    "    if (los == 5):\n",
    "        t_critical = round(st.t.isf(0.05/2, deg_of_frdm),3) #t-critical val @ 5% level of sig - two tailed test\n",
    "\n",
    "    print(\"Hypothesis Testing with 't-statistic' @ %d level of significance \" % los )\n",
    "    print(\"\\t t-cal = %.3f && p-value = %f \" % (t_cal, p_val))\n",
    "    print(\"\\t t-critical = %.3f \" % t_critical)\n",
    "    \n",
    "    if (t_cal > t_critical):\n",
    "        print()\n",
    "        print(\"\\tRejecting Null Hypothesis, @\",los,\"% level of significance\")\n",
    "    else:\n",
    "        print()\n",
    "        print(\"\\tNot Rejecting Null Hypothesis, @\",los,\"% level of significance\")\n",
    "    "
   ]
  },
  {
   "cell_type": "code",
   "execution_count": 144,
   "metadata": {},
   "outputs": [
    {
     "name": "stdout",
     "output_type": "stream",
     "text": [
      "Null Hypothesis: \t \" mean =  1500 \"\n",
      "Alternate Hypothesis: \t \" mean !=  1500 \"\n"
     ]
    }
   ],
   "source": [
    "pop_mu = 1500\n",
    "pop_sd = 100\n",
    "\n",
    "sample_mu = 1600\n",
    "sample_sd = 30\n",
    "sample_size = 9\n",
    "\n",
    "hypothesis(pop_mu)\n"
   ]
  },
  {
   "cell_type": "markdown",
   "metadata": {},
   "source": [
    "### Solution to question (a)"
   ]
  },
  {
   "cell_type": "code",
   "execution_count": 145,
   "metadata": {},
   "outputs": [
    {
     "name": "stdout",
     "output_type": "stream",
     "text": [
      "Hypothesis Testing with 'z-statistic' @ 1 level of significance \n",
      "\t z-cal = 3.000 && p-value = 0.002700\n",
      "\t z-critical = 2.576 \n",
      "\n",
      "\tRejecting Null Hypothesis, @ 1 % level of significance\n"
     ]
    }
   ],
   "source": [
    "z_test(1600, 1500, 100, 1)"
   ]
  },
  {
   "cell_type": "markdown",
   "metadata": {},
   "source": [
    "### Solution to question (b)"
   ]
  },
  {
   "cell_type": "code",
   "execution_count": 146,
   "metadata": {},
   "outputs": [
    {
     "name": "stdout",
     "output_type": "stream",
     "text": [
      "Hypothesis Testing with 't-statistic' @ 1 level of significance \n",
      "\t t-cal = 10.000 && p-value = 0.000008 \n",
      "\t t-critical = 3.355 \n",
      "\n",
      "\tRejecting Null Hypothesis, @ 1 % level of significance\n"
     ]
    }
   ],
   "source": [
    "t_test(9, 1600, 30, 1500, 1)"
   ]
  },
  {
   "cell_type": "markdown",
   "metadata": {},
   "source": [
    "### Solution to question (c)"
   ]
  },
  {
   "cell_type": "code",
   "execution_count": 147,
   "metadata": {
    "scrolled": true
   },
   "outputs": [
    {
     "name": "stdout",
     "output_type": "stream",
     "text": [
      "Hypothesis Testing with 'z-statistic' @ 5 level of significance \n",
      "\t z-cal = 3.000 && p-value = 0.002700\n",
      "\t z-critical = 1.960 \n",
      "\n",
      "\tRejecting Null Hypothesis, @ 5 % level of significance\n"
     ]
    }
   ],
   "source": [
    "z_test(1600, 1500, 100, 5)"
   ]
  },
  {
   "cell_type": "code",
   "execution_count": 148,
   "metadata": {},
   "outputs": [
    {
     "name": "stdout",
     "output_type": "stream",
     "text": [
      "Hypothesis Testing with 't-statistic' @ 5 level of significance \n",
      "\t t-cal = 10.000 && p-value = 0.000008 \n",
      "\t t-critical = 2.306 \n",
      "\n",
      "\tRejecting Null Hypothesis, @ 5 % level of significance\n"
     ]
    }
   ],
   "source": [
    "t_test(9, 1600, 30, 1500, 5)"
   ]
  },
  {
   "cell_type": "markdown",
   "metadata": {},
   "source": [
    "## Solution to question (d): Conclusion"
   ]
  },
  {
   "cell_type": "markdown",
   "metadata": {},
   "source": [
    "As we can observe above results, using z-statistic & t-statistic @1% & 5% level of significance, Observed P-Values, Z-Scores & t-Scores, clearly concludes the rejection of Null Hypothesis, i.e., \n",
    "\n",
    "- Mean Breaking strength of the cables supplied is other than 1500. "
   ]
  },
  {
   "cell_type": "code",
   "execution_count": null,
   "metadata": {},
   "outputs": [],
   "source": []
  }
 ],
 "metadata": {
  "kernelspec": {
   "display_name": "Python 3",
   "language": "python",
   "name": "python3"
  },
  "language_info": {
   "codemirror_mode": {
    "name": "ipython",
    "version": 3
   },
   "file_extension": ".py",
   "mimetype": "text/x-python",
   "name": "python",
   "nbconvert_exporter": "python",
   "pygments_lexer": "ipython3",
   "version": "3.7.3"
  }
 },
 "nbformat": 4,
 "nbformat_minor": 2
}
